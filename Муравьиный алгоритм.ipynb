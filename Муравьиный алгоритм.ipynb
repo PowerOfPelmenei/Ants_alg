{
 "cells": [
  {
   "cell_type": "markdown",
   "metadata": {},
   "source": [
    "## Задача коммивояжера (Решение с помощью алгоритма муравьиной колонии)"
   ]
  },
  {
   "cell_type": "code",
   "execution_count": 1,
   "metadata": {},
   "outputs": [],
   "source": [
    "import matplotlib.pyplot as plt\n",
    "import time\n",
    "import random\n",
    "import pandas as pd\n",
    "import networkx as nx"
   ]
  },
  {
   "cell_type": "code",
   "execution_count": 14,
   "metadata": {},
   "outputs": [],
   "source": [
    "alpha = 1.5          # Параметр, определяющий степень важности феромонов\n",
    "beta = 2           # Параметр, определяющий степень важности длины ребер\n",
    "ro = 0.09         # Коэффицент испарения феромона\n",
    "ph = 1             # Начальное значение феромона на ребрах\n",
    "N = 500            # Количество итераций, циклов жизни муравьев.\n",
    "Coord = [(500,500),(1000,2500),(2465,1779),(2000,250),(1200,1400)] # Координаты городов для графа G"
   ]
  },
  {
   "cell_type": "code",
   "execution_count": 3,
   "metadata": {},
   "outputs": [],
   "source": [
    "# Создание вершин графа. Функция создает случайные точки (x,y)\n",
    "\n",
    "def create_nodes(count):\n",
    "    coord = [(random.randint(0,100), random.randint(0,100)) for i in range(count)]\n",
    "    return coord\n",
    "\n",
    "\n",
    "# Функция создания матрицы смежности, в случае, когда даны координаты городов(неорентированный полный граф)\n",
    "\n",
    "def create_m(l):\n",
    "    matrix = [[] for i in range(len(l))]\n",
    "    for i in range(len(l)):\n",
    "        node = l[i]\n",
    "        for j in l:\n",
    "            matrix[i]+=[round(((j[0]-node[0])**2+(j[1]-node[1])**2)**(1/2), 1)]\n",
    "    return matrix"
   ]
  },
  {
   "cell_type": "code",
   "execution_count": 4,
   "metadata": {},
   "outputs": [],
   "source": [
    "# Создание случайной матрицы смежности(ориентированный полный граф)\n",
    "\n",
    "def random_m(count):\n",
    "    G = [[random.randint(1,50) for i in range(count)] for j in range(count)]\n",
    "    for i in range(Node):\n",
    "        G[i][i] = 0\n",
    "    return G"
   ]
  },
  {
   "cell_type": "code",
   "execution_count": 17,
   "metadata": {},
   "outputs": [
    {
     "name": "stdout",
     "output_type": "stream",
     "text": [
      "[0.0, 2061.6, 2344.6, 1520.7, 1140.2]\n",
      "[2061.6, 0.0, 1632.8, 2462.2, 1118.0]\n",
      "[2344.6, 1632.8, 0.0, 1598.1, 1320.6]\n",
      "[1520.7, 2462.2, 1598.1, 0.0, 1400.9]\n",
      "[1140.2, 1118.0, 1320.6, 1400.9, 0.0]\n"
     ]
    }
   ],
   "source": [
    "# Создание графа по координатам\n",
    "G1 = create_m(Coord)\n",
    "for i in G1:\n",
    "    print(i)"
   ]
  },
  {
   "cell_type": "code",
   "execution_count": 18,
   "metadata": {},
   "outputs": [],
   "source": [
    "df = pd.DataFrame(G1) \n",
    "df.to_excel(r'/Users/danildzitiev/Desktop/test.xlsx', index=True) # Запись графа в файл Excel"
   ]
  },
  {
   "cell_type": "code",
   "execution_count": 6,
   "metadata": {},
   "outputs": [],
   "source": [
    "# Функция создает словарь ребер по матрице смежности. \n",
    "# Номер ребра - ключ, [начало, конец, длина, значение феромона] - значение\n",
    "\n",
    "def edges(G):\n",
    "    k = []\n",
    "    path_cur = []\n",
    "    for j in range(len(G)):\n",
    "        path_cur += G[j] # Делаем список с расстояниями для j-ого города\n",
    "        k += [[j, i + len(G[0]) - len(path_cur), path_cur[i], 1] for i in range(len(path_cur)) if path_cur[i] != 0] \n",
    "        # Строка выше добавляет ребра в виде списка [начало, конец, длина, значение феромона = 1]\n",
    "        path_cur = []\n",
    "    return {i:k[i] for i in range(len(k))}"
   ]
  },
  {
   "cell_type": "code",
   "execution_count": 7,
   "metadata": {},
   "outputs": [],
   "source": [
    "# Класс муравей.\n",
    "class Ant():\n",
    "    def __init__(self, cur_city):\n",
    "        self.cur_city = cur_city      # Текущий город\n",
    "        self.path = [self.cur_city]   # Пройденные города\n",
    "        self.length = 0               # Пройденное расстояние\n",
    "    def move(self):\n",
    "        Q = sum([i[2]*i[3] for i in S.values()])\n",
    "        v_p = [[(1/S[i][2]**beta)*(S[i][3]**alpha)/Q, i] for i in S if ((S[i][0] == self.cur_city) and (S[i][1] not in self.path))]\n",
    "        if len(v_p) > 0:\n",
    "            res = max(v_p)\n",
    "            self.length += S[res[1]][2]\n",
    "            for i in S:\n",
    "                S[i][3] = (1-ro)*S[i][3]\n",
    "            S[res[1]][3] += 1/S[res[1]][2]  \n",
    "            self.cur_city = S[res[1]][1]\n",
    "            self.path += [self.cur_city]\n",
    "            return res\n",
    "        if self.path[-1]!=self.path[0]:\n",
    "            self.path.append(self.path[0])\n",
    "            for i in S.values():\n",
    "                if i[0] == self.cur_city and i[1] == self.path[0]:\n",
    "                    self.length += i[2]\n",
    "        return self.path[0]"
   ]
  },
  {
   "cell_type": "code",
   "execution_count": 8,
   "metadata": {
    "scrolled": false
   },
   "outputs": [],
   "source": [
    "# Функция обхода для одного муравья\n",
    "def exp(ant,G): \n",
    "    for i in range(len(G)):\n",
    "        ant.move()\n",
    "\n",
    "# Создание муравьев        \n",
    "def generate_ants(G, count): # Указаное количество\n",
    "    nodes = [x for x in range(count)]\n",
    "    ants = [Ant(nodes.pop(random.randint(0,len(nodes)-1))) for i in range(count)]\n",
    "    return ants\n",
    "\n",
    "def generate_ants_all(G): # По муравью на каждую вершину\n",
    "    ants = [Ant(i) for i in range(len(G))]\n",
    "    return ants\n",
    "\n",
    "def search(l,G):\n",
    "    for i in l:\n",
    "        exp(i,G)\n",
    "\n",
    "def draw(Nodes, path): # Рисование маршрута.\n",
    "    x = [Nodes[i][0] for i in path]\n",
    "    y = [Nodes[i][1] for i in path]\n",
    "    plt.plot(x,y, mfc = 'red', ms = 12, marker = 'o')\n",
    "    plt.show()"
   ]
  },
  {
   "cell_type": "code",
   "execution_count": 16,
   "metadata": {
    "scrolled": false
   },
   "outputs": [
    {
     "data": {
      "image/png": "[encoded data removed]",
      "text/plain": [
       "<Figure size 432x288 with 1 Axes>"
      ]
     },
     "metadata": {
      "needs_background": "light"
     },
     "output_type": "display_data"
    },
    {
     "name": "stdout",
     "output_type": "stream",
     "text": [
      "7009.8\n",
      "[0, 4, 1, 2, 3, 0]\n",
      "--- 1.5865111351013184 seconds ---\n"
     ]
    }
   ],
   "source": [
    "start_time = time.time()\n",
    "\n",
    "Graph = create_nodes(8)\n",
    "m = create_m(Coord)\n",
    "S = edges(m)\n",
    "for i in range(N):\n",
    "    a = generate_ants_all(m)\n",
    "    search(a, m)\n",
    "    \n",
    "\n",
    "draw(Graph, a[0].path)\n",
    "\n",
    "print(a[0].length)\n",
    "print(a[0].path)\n",
    "\n",
    "print(f\"--- {(time.time() - start_time)} seconds ---\")"
   ]
  },
  {
   "cell_type": "code",
   "execution_count": 11,
   "metadata": {
    "scrolled": false
   },
   "outputs": [],
   "source": [
    "\n",
    "\n",
    "def draw_with_nx(start, end, edges_dict):\n",
    "    p = [(end[i], end[i+1]) for i in range(len(end)-1)]\n",
    "    \n",
    "    coordinates = dict() # Координаты вершин\n",
    "    for x in end:\n",
    "        coordinates[x] = start[x]\n",
    "    \n",
    "    label = dict() # Подпись весов ребер\n",
    "    \n",
    "    for i in p:\n",
    "        for j in edges_dict.values():\n",
    "            if i ==(j[0],j[1]): # Заполняем словарь, в котором ключ - (начало, конец), а значение - (вес ребра)\n",
    "                label[i] = j[2]\n",
    "\n",
    "    G = [] # Сами ребра для графа\n",
    "    for j in label:\n",
    "        G.append((j[0], j[1], label[j]))\n",
    "\n",
    "    Graph = nx.Graph()\n",
    "    Graph.add_weighted_edges_from(G)\n",
    "    fig, ax = plt.subplots(figsize=(20, 10))\n",
    "\n",
    "\n",
    "    nx.draw_networkx_edge_labels(Graph, \n",
    "                                 pos = coordinates, \n",
    "                                 edge_labels=label, \n",
    "                                 label_pos=0.5, \n",
    "                                 font_size=15, \n",
    "                                 font_color='k')\n",
    "\n",
    "\n",
    "    nx.draw(Graph, \n",
    "            node_color = 'yellow', \n",
    "            edge_color = 'b', \n",
    "            with_labels = True, \n",
    "            pos = coordinates, \n",
    "            node_size = 700, \n",
    "            ax = ax,  \n",
    "            width = 2, \n",
    "            font_size = 12)"
   ]
  },
  {
   "cell_type": "code",
   "execution_count": 12,
   "metadata": {},
   "outputs": [
    {
     "name": "stdout",
     "output_type": "stream",
     "text": [
      "233.89999999999998\n",
      "[0, 4, 6, 5, 7, 3, 2, 1, 0]\n"
     ]
    },
    {
     "data": {
      "image/png": "[encoded data removed]",
      "text/plain": [
       "<Figure size 1440x720 with 1 Axes>"
      ]
     },
     "metadata": {},
     "output_type": "display_data"
    }
   ],
   "source": [
    "draw_with_nx(Graph, a[0].path, S)\n",
    "print(a[0].length)\n",
    "print(a[0].path)"
   ]
  },
  {
   "cell_type": "code",
   "execution_count": null,
   "metadata": {},
   "outputs": [],
   "source": []
  }
 ],
 "metadata": {
  "kernelspec": {
   "display_name": "Python 3",
   "language": "python",
   "name": "python3"
  },
  "language_info": {
   "codemirror_mode": {
    "name": "ipython",
    "version": 3
   },
   "file_extension": ".py",
   "mimetype": "text/x-python",
   "name": "python",
   "nbconvert_exporter": "python",
   "pygments_lexer": "ipython3",
   "version": "3.8.0"
  }
 },
 "nbformat": 4,
 "nbformat_minor": 2
}
